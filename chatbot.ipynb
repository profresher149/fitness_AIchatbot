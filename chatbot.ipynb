{
  "cells": [
    {
      "cell_type": "code",
      "execution_count": null,
      "metadata": {
        "colab": {
          "base_uri": "https://localhost:8080/"
        },
        "id": "C9G9NZYTLehd",
        "outputId": "cf6c647e-6a47-4585-fe7a-2470dfde027a"
      },
      "outputs": [
        {
          "output_type": "stream",
          "name": "stderr",
          "text": [
            "[nltk_data] Downloading package punkt to /root/nltk_data...\n",
            "[nltk_data]   Package punkt is already up-to-date!\n",
            "[nltk_data] Downloading package stopwords to /root/nltk_data...\n",
            "[nltk_data]   Package stopwords is already up-to-date!\n"
          ]
        }
      ],
      "source": [
        "from flask import Flask, render_template, request\n",
        "import requests\n",
        "from flask import Flask\n",
        "from transformers import AutoModelForSeq2SeqLM, AutoTokenizer\n",
        "import os\n",
        "import nltk\n",
        "nltk.download('punkt')\n",
        "nltk.download('stopwords')\n",
        "from nltk.corpus import stopwords\n",
        "from nltk.stem import PorterStemmer"
      ]
    },
    {
      "cell_type": "code",
      "execution_count": null,
      "metadata": {
        "id": "iTeNFsCspJ-J"
      },
      "outputs": [],
      "source": [
        "import json\n",
        "from transformers import AutoModelForSeq2SeqLM, AutoTokenizer\n",
        "app = Flask(__name__)\n",
        "model_name = \"facebook/bart-base\"\n",
        "tokenizer = AutoTokenizer.from_pretrained(model_name)\n",
        "model = AutoModelForSeq2SeqLM.from_pretrained(model_name)"
      ]
    },
    {
      "cell_type": "code",
      "execution_count": null,
      "metadata": {
        "id": "QCQQan6TQiaz"
      },
      "outputs": [],
      "source": [
        "def get_dietary_advice(text):\n",
        "  url = \"https://nutrition-by-api-ninjas.p.rapidapi.com/v1/nutrition\"\n",
        "  querystring = {\"query\":text}\n",
        "  headers = {\n",
        "    \"X-RapidAPI-Key\": \"33ee5f19c7msh22e43b81068cb1dp18a9adjsnf084b89fcb58\",\n",
        "    \"X-RapidAPI-Host\": \"nutrition-by-api-ninjas.p.rapidapi.com\"\n",
        "  }\n",
        "  response = requests.get(url, headers=headers, params=querystring)\n",
        "  data = response.json()\n",
        "  return data\n",
        "  pass"
      ]
    },
    {
      "cell_type": "code",
      "execution_count": null,
      "metadata": {
        "id": "31cWgej9Dvpl"
      },
      "outputs": [],
      "source": [
        "def extract_intent(text):\n",
        "    intent = {}\n",
        "    # Keywords for each intent category\n",
        "    type_keywords = ['cardio', 'olympic_weightlifting', 'plyometrics', 'powerlifting', 'strength', 'stretching', 'strongman']\n",
        "    muscle_keywords = [\"abdominals\", \"abductors\", \"adductors\", \"biceps\", \"calves\", \"chest\", \"forearms\", \"glutes\", \"hamstrings\", \"lats\", \"lower_back\", \"middle_back\", \"neck\", \"quadriceps\", \"traps\", \"triceps\"]\n",
        "    difficulty_keywords = ['beginner', 'intermediate', 'expert']\n",
        "    # Extracting keywords for 'type' intent\n",
        "    type_intent = [keyword for keyword in type_keywords if keyword in text]\n",
        "    if type_intent:\n",
        "        intent['type'] = type_intent\n",
        "    # Extracting keywords for 'muscle' intent\n",
        "    muscle_intent = [keyword for keyword in muscle_keywords if keyword in text]\n",
        "    if muscle_intent:\n",
        "        intent['muscle'] = muscle_intent\n",
        "    # Extracting keywords for 'difficulty' intent\n",
        "    difficulty_intent = [keyword for keyword in difficulty_keywords if keyword in text]\n",
        "    if difficulty_intent:\n",
        "        intent['difficulty'] = difficulty_intent\n",
        "    return intent\n",
        "    pass"
      ]
    },
    {
      "cell_type": "code",
      "execution_count": null,
      "metadata": {
        "id": "GFxjLmXfRXoH"
      },
      "outputs": [],
      "source": [
        "def get_workout_recommendation(text):\n",
        "    querystring = extract_intent(text)\n",
        "    if not querystring :\n",
        "        print(\"Sorry, the instructions are not clear\")\n",
        "        return None\n",
        "    url = \"https://exercises-by-api-ninjas.p.rapidapi.com/v1/exercises\"\n",
        "    headers = {\n",
        "        \"X-RapidAPI-Key\": \"33ee5f19c7msh22e43b81068cb1dp18a9adjsnf084b89fcb58\",\n",
        "        \"X-RapidAPI-Host\": \"exercises-by-api-ninjas.p.rapidapi.com\"\n",
        "    }\n",
        "    response = requests.get(url, headers=headers, params=querystring)\n",
        "    data = response.json()\n",
        "    return data[0]"
      ]
    },
    {
      "cell_type": "code",
      "execution_count": null,
      "metadata": {
        "id": "VEOqGx5pO4Tf"
      },
      "outputs": [],
      "source": [
        "def generate_response(text):\n",
        "    input_ids = tokenizer.encode(text, return_tensors=\"pt\")\n",
        "    output = model.generate(input_ids, max_length=50, num_return_sequences=1, early_stopping=True)\n",
        "    generated_text = tokenizer.decode(output[0], skip_special_tokens=True)\n",
        "    dapi_response = str(get_dietary_advice(text))\n",
        "    Wapi_response=''\n",
        "    if not get_dietary_advice(text):\n",
        "      Wapi_response = str(get_workout_recommendation(text))\n",
        "    response = generated_text + \" \" + Wapi_response + ' ' + dapi_response\n",
        "    return str(response)\n"
      ]
    },
    {
      "cell_type": "code",
      "execution_count": null,
      "metadata": {
        "colab": {
          "base_uri": "https://localhost:8080/"
        },
        "id": "MCn6NOd_-mYp",
        "outputId": "29d87ba1-4f61-41f3-b999-2edfacb45899"
      },
      "outputs": [
        {
          "output_type": "stream",
          "name": "stdout",
          "text": [
            " * Serving Flask app '__main__'\n",
            " * Debug mode: off\n"
          ]
        },
        {
          "output_type": "stream",
          "name": "stderr",
          "text": [
            "INFO:werkzeug:\u001b[31m\u001b[1mWARNING: This is a development server. Do not use it in a production deployment. Use a production WSGI server instead.\u001b[0m\n",
            " * Running on http://127.0.0.1:5000\n",
            "INFO:werkzeug:\u001b[33mPress CTRL+C to quit\u001b[0m\n"
          ]
        }
      ],
      "source": [
        "\n",
        "app = Flask(__name__)\n",
        "\n",
        "@app.route(\"/\")\n",
        "def home():\n",
        "    return render_template(\"index.html\")\n",
        "\n",
        "@app.route(\"/get\")\n",
        "def get_bot_response():\n",
        "    text = request.args.get('msg')\n",
        "    response = generate_response(text)\n",
        "    return response\n",
        "\n",
        "if __name__ == \"__main__\":\n",
        "    app.run()"
      ]
    }
  ],
  "metadata": {
    "colab": {
      "provenance": []
    },
    "kernelspec": {
      "display_name": "Python 3",
      "name": "python3"
    },
    "language_info": {
      "name": "python"
    }
  },
  "nbformat": 4,
  "nbformat_minor": 0
}